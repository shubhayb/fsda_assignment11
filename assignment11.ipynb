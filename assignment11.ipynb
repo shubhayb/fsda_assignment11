{
 "cells": [
  {
   "cell_type": "markdown",
   "id": "f5760c2b-7a93-493f-b700-f7f0c00103d0",
   "metadata": {},
   "source": [
    "1. Create an assert statement that throws an AssertionError if the variable spam is a negative\n",
    "integer.\n",
    "\n",
    "Answer: assert(spam >= 10, 'The spam variable is less than 10.')"
   ]
  },
  {
   "cell_type": "markdown",
   "id": "7cfb6266-185e-4f34-9691-e13ecfabcbf3",
   "metadata": {},
   "source": [
    "2. Write an assert statement that triggers an AssertionError if the variables eggs and bacon contain\n",
    "strings that are the same as each other, even if their cases are different (that is, &#39;hello&#39; and &#39;hello&#39; are\n",
    "considered the same, and &#39;goodbye&#39; and &#39;GOODbye&#39; are also considered the same).\n",
    "                                        \n",
    "Answer: assert(eggs.lower() != bacon.lower(), 'The eggs and bacon variables are the same!') or assert(eggs.upper() != bacon.upper(), 'The eggs and bacon variables are the same!')"
   ]
  },
  {
   "cell_type": "markdown",
   "id": "8e2e670c-7177-484d-9f8b-0a69bd689c8d",
   "metadata": {},
   "source": [
    "3.Write an assert statement that always triggers an AssertionError.\n",
    "\n",
    "Answer: assert(False, 'This assertion always triggers.')\n"
   ]
  },
  {
   "cell_type": "markdown",
   "id": "6a5d1e42-f8a5-4713-ad74-29698ac284f6",
   "metadata": {},
   "source": [
    "4.What are the two lines that your program must have in order to be able to call logging.debug()? \n",
    "\n",
    "Answer: To be able to call logging.debug(), you must have these two lines at the start of your program: import logging logging.basicConfig(level=logging.DEBUG, format=' %(asctime)s - %(levelname)s - %(message)s')"
   ]
  },
  {
   "cell_type": "markdown",
   "id": "5419a3ba-d5b8-4809-9231-f8b995cb4d9c",
   "metadata": {},
   "source": [
    "5. What are the two lines that your program must have in order to have logging.debug() send a logging message to a ﬁle named programLog.txt? \n",
    "\n",
    "Answer: import logging logging.basicConfig(filename='programLog.txt', level=logging.DEBUG, format=' %(asctime)s - %(levelname)s - %(message)s')\n"
   ]
  },
  {
   "cell_type": "markdown",
   "id": "e705fb53-7fd4-4cb7-a481-a2dde64ecc61",
   "metadata": {},
   "source": [
    "6.What are the ﬁve logging levels?\n",
    "\n",
    "Answer: DEBUG, INFO, WARNING, ERROR, and CRITICAL"
   ]
  },
  {
   "cell_type": "markdown",
   "id": "782a0649-54e3-40c3-a7bc-f2309cd777ff",
   "metadata": {},
   "source": [
    "7. What line of code can you add to disable all logging messages in your program?\n",
    "\n",
    "Answer: logging.disable(logging.CRITICAL)"
   ]
  },
  {
   "cell_type": "markdown",
   "id": "37ab7aa0-b769-4502-82b2-1e4cb022f248",
   "metadata": {},
   "source": [
    "8.Why is using logging messages better than using print() to display the same message?\n",
    "\n",
    "Answer: You can disable logging messages without removing the logging function calls. You can selectively disable lower-level logging messages. You can create logging messages. Logging messages provides a timestamp."
   ]
  },
  {
   "cell_type": "markdown",
   "id": "3ec250c3-6693-44f9-9238-1183b93ef63c",
   "metadata": {},
   "source": [
    "9. What are the differences between the Step, Over, and Out buttons in the Debug Control window? \n",
    "\n",
    "Answer: The Step button will move the debugger into a function call. The Over button will quickly execute the function call without stepping into it. The Out button will quickly execute the rest of the code until it steps out of the function it currently is in."
   ]
  },
  {
   "cell_type": "markdown",
   "id": "95a4cd86-793a-44b9-a40a-4fce79697054",
   "metadata": {},
   "source": [
    "10.After you click Go in the Debug Control window, when will the debugger stop? \n",
    "\n",
    "Answer: click Go, the debugger will stop when it has reached the end of the program or a line with a breakpoint."
   ]
  },
  {
   "cell_type": "markdown",
   "id": "2cc3cb20-1ddc-4c48-b39d-53932c0d42d3",
   "metadata": {},
   "source": [
    "11.What is a breakpoint?\n",
    "\n",
    "Answer: breakpoint is a setting on a line of code that causes the debugger to pause when the program execution reaches the line"
   ]
  },
  {
   "cell_type": "markdown",
   "id": "bb5b2d12-a998-478d-ab49-1eea24fdb140",
   "metadata": {},
   "source": [
    "12."
   ]
  }
 ],
 "metadata": {
  "kernelspec": {
   "display_name": "Python 3 (ipykernel)",
   "language": "python",
   "name": "python3"
  },
  "language_info": {
   "codemirror_mode": {
    "name": "ipython",
    "version": 3
   },
   "file_extension": ".py",
   "mimetype": "text/x-python",
   "name": "python",
   "nbconvert_exporter": "python",
   "pygments_lexer": "ipython3",
   "version": "3.10.6"
  }
 },
 "nbformat": 4,
 "nbformat_minor": 5
}
